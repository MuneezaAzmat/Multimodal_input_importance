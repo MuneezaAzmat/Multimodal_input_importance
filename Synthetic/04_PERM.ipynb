{
 "cells": [
  {
   "cell_type": "code",
   "execution_count": 1,
   "id": "670f8cc0",
   "metadata": {},
   "outputs": [],
   "source": [
    "import matplotlib.pyplot as plt\n",
    "import numpy as np\n",
    "\n",
    "# exp_id = np.load('exp_id.npy')\n",
    "exp_id = 6\n",
    "exec(open(\"model_architecture.py\").read())\n",
    "\n",
    "net1 = torch.load('F'+ str(exp_id) +'_net1.pt')\n",
    "net2 = torch.load('F'+ str(exp_id) +'_net2.pt')"
   ]
  },
  {
   "cell_type": "code",
   "execution_count": 1,
   "id": "7ea6bd2e",
   "metadata": {},
   "outputs": [],
   "source": [
    "## Save Deep features at fusion layer (needed for perm, LIME, SHAP)\n",
    "net1.eval()\n",
    "net2.eval()\n",
    "\n",
    "test_sz = len(test_loader)*batch_size\n",
    "\n",
    "deep_feat = torch.zeros(test_sz , 40)\n",
    "test_labels = torch.zeros(test_sz)\n",
    "\n",
    "with torch.no_grad():\n",
    "    for i, data in enumerate(test_loader):\n",
    "        m1, m2, m3, labels = data\n",
    "        img1 = m1.to(device)\n",
    "        img2 = m2.to(device)\n",
    "        tab = m3.to(device)\n",
    "        labels = labels.to(device)\n",
    "\n",
    "        # run the model on the test set to predict labels\n",
    "        enc_img1 = net1(img1)\n",
    "        enc_img2 = net1(img2)\n",
    "        b_sz = len(labels)\n",
    "        deep_feat[i*128:i*128+b_sz] = torch.cat((enc_img1, enc_img2, tab), dim=1)\n",
    "\n",
    "        # Save the true labels corresponding all deep features\n",
    "        test_labels[i*128:i*128+b_sz] = labels\n",
    "\n",
    "test_labels = test_labels[0:i*128+b_sz]        \n",
    "deep_feat = deep_feat[0:i*128+b_sz, :]\n",
    "\n",
    "torch.save(deep_feat,'D1_F'+str(exp_id)+'_test_fusion_tensor.pt' ) \n"
   ]
  },
  {
   "cell_type": "markdown",
   "id": "9ebf4690",
   "metadata": {},
   "source": [
    "## Feature importance using permutation method"
   ]
  },
  {
   "cell_type": "code",
   "execution_count": 5,
   "id": "9b4b8c42",
   "metadata": {},
   "outputs": [],
   "source": [
    "# Function to test the model with the test dataset and print the accuracy for the test images\n",
    "net1.eval()\n",
    "net2.eval()\n",
    "\n",
    "fn = 40\n",
    "\n",
    "total = 0.0\n",
    "perm_iter = 3500\n",
    "sz = len(deep_feat)\n",
    "imp = np.zeros(fn)\n",
    "\n",
    "with torch.no_grad():\n",
    "    test_labels = test_labels.double().to(device)\n",
    "    deep_feat = deep_feat.double().to(device)\n",
    "    \n",
    "    outputs = net2(deep_feat[:,0:10], deep_feat[:,10:20], deep_feat[:,20:40])\n",
    "    _, predicted = torch.max(outputs.data, -1)\n",
    "    \n",
    "    base_accuracy = ((predicted == test_labels).sum().item())/sz\n",
    "    \n",
    "    for k in range(fn):\n",
    "        accuracy = 0.0\n",
    "        for i in range(perm_iter):\n",
    "            idx = torch.randperm(sz)\n",
    "            perm_deep_feat = deep_feat.clone()\n",
    "            perm_deep_feat[:,k] = deep_feat[idx,k]\n",
    "\n",
    "            perm_deep_feat = perm_deep_feat.double().to(device)\n",
    "            outputs = net2(perm_deep_feat[:,0:10], perm_deep_feat[:,10:20], perm_deep_feat[:,20:40])\n",
    "\n",
    "            # the label with the highest energy will be our prediction\n",
    "            _, predicted = torch.max(outputs.data, -1)\n",
    "            accuracy += ((predicted == test_labels).sum().item())/sz\n",
    "        # compute the accuracy over all test images\n",
    "        accuracy = (accuracy / perm_iter)\n",
    "        \n",
    "        imp[k] = base_accuracy - accuracy \n"
   ]
  },
  {
   "cell_type": "code",
   "execution_count": 6,
   "id": "f90f960a",
   "metadata": {},
   "outputs": [
    {
     "data": {
      "image/png": "[encoded data removed]",
      "text/plain": [
       "<Figure size 432x288 with 1 Axes>"
      ]
     },
     "metadata": {
      "needs_background": "light"
     },
     "output_type": "display_data"
    }
   ],
   "source": [
    "imp_m1 = np.sum((imp[0:10]))\n",
    "imp_m2 = np.sum((imp[10:20]))\n",
    "imp_m3 = np.sum((imp[20:30]))\n",
    "imp_m4 = np.sum((imp[30:40]))\n",
    "\n",
    "imp_m = np.array( [ imp_m1, imp_m2, imp_m3, imp_m4] ) \n",
    "imp_m[imp_m < 0] = 0\n",
    "imp_m = imp_m/sum(imp_m)\n",
    "\n",
    "imp_GT = np.load('F'+str(exp_id)+'_imp_gt.npy')\n",
    "\n",
    "xlabel = ['M1', 'M2','M3','M4']\n",
    "plt.bar([0-0.125,1-0.125,2-0.125,3-0.125], imp_GT,  edgecolor='k', width=0.25, capsize=2,  label='True')\n",
    "plt.bar([0+0.125,1+0.125,2+0.125,3+0.125], imp_m,  edgecolor='k', width=0.25, capsize=2,  label='Predicted')\n",
    "plt.xticks([0,1,2,3],xlabel,fontsize=12)\n",
    "plt.xlabel('Modalities',fontsize=12)\n",
    "plt.ylabel('Normalized importance',fontsize=12)\n",
    "plt.ylim([0,1])\n",
    "plt.legend()\n",
    "plt.grid\n",
    "\n",
    "np.save('F'+str(exp_id)+'_imp_perm', imp_m)"
   ]
  }
 ],
 "metadata": {
  "kernelspec": {
   "display_name": "Python 3 (ipykernel)",
   "language": "python",
   "name": "python3"
  },
  "language_info": {
   "codemirror_mode": {
    "name": "ipython",
    "version": 3
   },
   "file_extension": ".py",
   "mimetype": "text/x-python",
   "name": "python",
   "nbconvert_exporter": "python",
   "pygments_lexer": "ipython3",
   "version": "3.9.7"
  }
 },
 "nbformat": 4,
 "nbformat_minor": 5
}
