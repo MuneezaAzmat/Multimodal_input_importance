{
 "cells": [
  {
   "cell_type": "code",
   "execution_count": 12,
   "id": "670f8cc0",
   "metadata": {},
   "outputs": [],
   "source": [
    "import matplotlib.pyplot as plt \n",
    "import numpy as np\n",
    "import random\n",
    "import shap\n",
    "\n",
    "exp_id = np.load('exp_id.npy')\n",
    "exec(open(\"model_architecture.py\").read())\n",
    "\n",
    "net2 = torch.load('F'+ str(exp_id) +'_net2.pt')\n",
    "deep_feat = torch.load('D1_F'+str(exp_id)+'_test_fusion_tensor.pt').double().to(device)"
   ]
  },
  {
   "cell_type": "code",
   "execution_count": 17,
   "id": "5b44eda8",
   "metadata": {},
   "outputs": [
    {
     "name": "stderr",
     "output_type": "stream",
     "text": [
      "Using 150 background data samples could cause slower run times. Consider using shap.sample(data, K) or shap.kmeans(data, K) to summarize the background as K samples.\n"
     ]
    },
    {
     "data": {
      "application/vnd.jupyter.widget-view+json": {
       "model_id": "9d99b3dfd0bb43fb8d34f3e6f8786b69",
       "version_major": 2,
       "version_minor": 0
      },
      "text/plain": [
       "  0%|          | 0/500 [00:00<?, ?it/s]"
      ]
     },
     "metadata": {},
     "output_type": "display_data"
    }
   ],
   "source": [
    "net2.eval()\n",
    "X = deep_feat.cpu().numpy() \n",
    "\n",
    "def f(X):\n",
    "    Xt = torch.from_numpy(X).double().to(device)\n",
    "    predict_prob = net2(Xt[:, 0:10], Xt[:, 10:20], Xt[: , 20:40])\n",
    "    return predict_prob.detach().cpu().numpy()[:,0]\n",
    "\n",
    "explainer = shap.KernelExplainer(f, shap.sample(X, 150))\n",
    "idx = random.sample(range(0, len(X)), 500)\n",
    "shap_values = explainer.shap_values(X[idx,:], nsamples=250)"
   ]
  },
  {
   "cell_type": "code",
   "execution_count": 18,
   "id": "f90f960a",
   "metadata": {},
   "outputs": [
    {
     "data": {
      "image/png": "[encoded data removed]",
      "text/plain": [
       "<Figure size 432x288 with 1 Axes>"
      ]
     },
     "metadata": {
      "needs_background": "light"
     },
     "output_type": "display_data"
    }
   ],
   "source": [
    "imp = np.mean(shap_values,0)\n",
    "\n",
    "imp_m1 = np.abs(np.sum(imp[0:10]))\n",
    "imp_m2 = np.abs(np.sum(imp[10:20]))\n",
    "imp_m3 = np.abs(np.sum(imp[20:30]))\n",
    "imp_m4 = np.abs(np.sum(imp[30:40]))\n",
    "\n",
    "imp_m = np.array( [ imp_m1, imp_m2, imp_m3, imp_m4] ) \n",
    "imp_m = imp_m/sum(imp_m)\n",
    "imp_GT = np.load('F'+str(exp_id)+'_imp_gt.npy')\n",
    "\n",
    "xlabel = ['M1', 'M2','M3','M4']\n",
    "plt.bar([0-0.125,1-0.125,2-0.125,3-0.125], imp_GT,  edgecolor='k', width=0.25, capsize=2,  label='True')\n",
    "plt.bar([0+0.125,1+0.125,2+0.125,3+0.125], imp_m,  edgecolor='k', width=0.25, capsize=2,  label='Predicted')\n",
    "plt.xticks([0,1,2,3],xlabel,fontsize=12)\n",
    "plt.xlabel('Modalities',fontsize=12)\n",
    "plt.ylabel('Normalized importance',fontsize=12)\n",
    "plt.ylim([0,1])\n",
    "plt.legend()\n",
    "plt.grid\n",
    "\n",
    "np.save('F'+str(exp_id)+'_imp_shap', imp_m)"
   ]
  }
 ],
 "metadata": {
  "kernelspec": {
   "display_name": "Python 3 (ipykernel)",
   "language": "python",
   "name": "python3"
  },
  "language_info": {
   "codemirror_mode": {
    "name": "ipython",
    "version": 3
   },
   "file_extension": ".py",
   "mimetype": "text/x-python",
   "name": "python",
   "nbconvert_exporter": "python",
   "pygments_lexer": "ipython3",
   "version": "3.9.7"
  }
 },
 "nbformat": 4,
 "nbformat_minor": 5
}
