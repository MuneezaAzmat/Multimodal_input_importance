{
 "cells": [
  {
   "cell_type": "code",
   "execution_count": 53,
   "id": "40917038",
   "metadata": {},
   "outputs": [],
   "source": [
    "import numpy as np \n",
    "import random \n",
    "\n",
    "fn = 40\n",
    "features = np.load('fusion_features.npy')\n",
    "tr_num = np.load('tr_num.npy')\n",
    "n_samples = len(features)"
   ]
  },
  {
   "cell_type": "code",
   "execution_count": 66,
   "id": "86dc9f7a",
   "metadata": {},
   "outputs": [
    {
     "name": "stdout",
     "output_type": "stream",
     "text": [
      "Prevalence is 0.50\n"
     ]
    }
   ],
   "source": [
    "# m1 - [0:10]\n",
    "# m2 - [10:20]\n",
    "# m3 - [20:30]\n",
    "# m4 - [30:40]\n",
    "\n",
    "labels = np.zeros((n_samples))\n",
    "exp_id = 6\n",
    "\n",
    "for i in  range(n_samples):\n",
    "    F1 = np.sum(features[i,0:40])\n",
    "    if F1  < -0.2:\n",
    "        labels[i] = 0\n",
    "    else:\n",
    "        labels[i] = 1      \n",
    "print( 'Prevalence is', f\"{sum(labels)/n_samples:0.2f}\")\n",
    "\n",
    "grad = np.zeros((n_samples,40))\n",
    "for i in range(len(labels)):\n",
    "    grad[i,0:40] = 1 \n",
    "    \n",
    "imp = np.mean(np.abs(grad),0 ) # average over all test for each fold\n",
    "\n",
    "imp_m1 = np.sum(imp[0:10])/np.sum(imp)\n",
    "imp_m2 = np.sum(imp[10:20])/np.sum(imp)\n",
    "imp_m3 = np.sum(imp[20:30])/np.sum(imp)\n",
    "imp_m4 = np.sum(imp[30:40])/np.sum(imp)\n",
    "\n",
    "imp_m = np.array( [ imp_m1, imp_m2, imp_m3, imp_m4] ) \n",
    "\n",
    "np.save('F'+str(exp_id)+'_imp_gt',imp_m)\n",
    "np.save('D1_F'+str(exp_id)+'_label_train',labels[0:tr_num])\n",
    "np.save('D1_F'+str(exp_id)+'_label_test',labels[tr_num:-1])\n",
    "np.save('exp_id', exp_id)"
   ]
  },
  {
   "cell_type": "code",
   "execution_count": 52,
   "id": "1d756afa",
   "metadata": {},
   "outputs": [],
   "source": []
  },
  {
   "cell_type": "code",
   "execution_count": null,
   "id": "2f4407ba",
   "metadata": {},
   "outputs": [],
   "source": []
  }
 ],
 "metadata": {
  "kernelspec": {
   "display_name": "Python 3 (ipykernel)",
   "language": "python",
   "name": "python3"
  },
  "language_info": {
   "codemirror_mode": {
    "name": "ipython",
    "version": 3
   },
   "file_extension": ".py",
   "mimetype": "text/x-python",
   "name": "python",
   "nbconvert_exporter": "python",
   "pygments_lexer": "ipython3",
   "version": "3.9.7"
  }
 },
 "nbformat": 4,
 "nbformat_minor": 5
}
