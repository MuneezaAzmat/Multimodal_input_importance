{
 "cells": [
  {
   "cell_type": "code",
   "execution_count": 1,
   "id": "4703f0c1",
   "metadata": {},
   "outputs": [],
   "source": [
    "import matplotlib.pyplot as plt\n",
    "import numpy as np\n",
    "exp_id = np.load('exp_id.npy')\n",
    "exec(open(\"model_architecture.py\").read())\n",
    "\n",
    "net1 = torch.load('F'+ str(exp_id) +'_net1.pt')\n",
    "net2 = torch.load('F'+ str(exp_id) +'_net2.pt')"
   ]
  },
  {
   "cell_type": "code",
   "execution_count": 2,
   "id": "75baa01e",
   "metadata": {},
   "outputs": [],
   "source": [
    "test_data = np.load('D1_test.npy')\n",
    "grad = np.zeros((len(test_data), 10+10+10+10))\n",
    "\n",
    "net1.eval()\n",
    "net2.eval()\n",
    "\n",
    "for i, (m1, m2, m3, labels) in enumerate(DataLoader(dataset=custom_test_data, batch_size=1), 0):\n",
    "\n",
    "    # get the inputs\n",
    "    img1 = Variable(m1.to(device))\n",
    "    img2 = Variable(m2.to(device))\n",
    "    tab = Variable(m3.to(device))\n",
    "    labels = Variable(labels.to(device))\n",
    "\n",
    "    enc_img1 = net1(img1)\n",
    "    enc_img2 = net1(img2)\n",
    "    \n",
    "#     enc_img1.requires_grad = True\n",
    "#     enc_img2.requires_grad = True\n",
    "    tab.requires_grad = True\n",
    "    \n",
    "    fused = torch.cat((enc_img1, enc_img2, tab), dim=1)\n",
    "    \n",
    "    outputs = net2(enc_img1, enc_img2, tab)\n",
    "    loss = loss_fn(outputs, labels)\n",
    "    prob = torch.exp(outputs[:,0])\n",
    "    \n",
    "    grad[i,0:10] = torch.autograd.grad(prob, enc_img1, retain_graph=True)[0].cpu().numpy()\n",
    "    grad[i,10:20] = torch.autograd.grad(prob, enc_img2, retain_graph=True)[0].cpu().numpy()\n",
    "    grad[i,20:40] = torch.autograd.grad(prob, tab, retain_graph=True)[0].cpu().numpy()\n",
    "    "
   ]
  },
  {
   "cell_type": "code",
   "execution_count": 3,
   "id": "54cc3130",
   "metadata": {},
   "outputs": [
    {
     "data": {
      "image/png": "[encoded data removed]",
      "text/plain": [
       "<Figure size 432x288 with 1 Axes>"
      ]
     },
     "metadata": {
      "needs_background": "light"
     },
     "output_type": "display_data"
    }
   ],
   "source": [
    "imp = np.mean(np.abs(grad),0 ) # average over all test for each fold\n",
    "\n",
    "imp_m1 = np.sum(imp[0:10])/np.sum(imp)\n",
    "imp_m2 = np.sum(imp[10:20])/np.sum(imp)\n",
    "imp_m3 = np.sum(imp[20:30])/np.sum(imp)\n",
    "imp_m4 = np.sum(imp[30:40])/np.sum(imp)\n",
    "\n",
    "imp_m = np.array( [ imp_m1, imp_m2, imp_m3, imp_m4] ) \n",
    "imp_GT = np.load('F'+str(exp_id)+'_imp_gt.npy')\n",
    "\n",
    "fsz=12\n",
    "w = 0.25\n",
    "xlabel = ['M1', 'M2','M3','M4']\n",
    "plt.bar([0-w/2,1-w/2,2-w/2,3-w/2], imp_GT, width=w, capsize=2,  label='True')\n",
    "plt.bar([0+w/2,1+w/2,2+w/2,3+w/2], imp_m, width=w, capsize=2,  label='Predicted')\n",
    "plt.xticks([0,1,2,3],xlabel,fontsize=fsz)\n",
    "plt.xlabel('Modalities',fontsize=fsz)\n",
    "plt.ylabel('Normalized importance',fontsize=fsz)\n",
    "plt.ylim([0,1])\n",
    "plt.legend()\n",
    "plt.grid\n",
    "\n",
    "np.save('F'+str(exp_id)+'_imp_grad', imp_m)"
   ]
  },
  {
   "cell_type": "code",
   "execution_count": 14,
   "id": "04e55ba2",
   "metadata": {},
   "outputs": [],
   "source": [
    "import numpy as np\n",
    "imp = np.array([0.09759747, 0.011989 ,  0.09325688, 0.00494357 ,0.04493135])\n",
    "perm = imp/np.sum(imp)\n",
    "grad = np.array([0.43025567 ,0.07907475,0.25621003,0.05166628,0.18279328])\n",
    "lime = np.array([0.38978995, 0.0747075,  0.2645296,  0.04078334, 0.2301896])\n",
    "\n",
    "agg = np.sum((perm,grad,lime),0)/3"
   ]
  },
  {
   "cell_type": "code",
   "execution_count": 15,
   "id": "7937903f",
   "metadata": {},
   "outputs": [
    {
     "name": "stdout",
     "output_type": "stream",
     "text": [
      "perm [0.386 0.047 0.369 0.02  0.178]\n",
      "grad [0.43  0.079 0.256 0.052 0.183]\n",
      "lime [0.39  0.075 0.265 0.041 0.23 ]\n",
      "agg [0.402 0.067 0.297 0.037 0.197]\n"
     ]
    }
   ],
   "source": [
    "print('perm',np.around(perm,3))\n",
    "print('grad',np.around(grad,3))\n",
    "print('lime',np.around(lime,3))\n",
    "print('agg', np.around(agg,3))"
   ]
  },
  {
   "cell_type": "code",
   "execution_count": null,
   "id": "833fd79a",
   "metadata": {},
   "outputs": [],
   "source": []
  }
 ],
 "metadata": {
  "kernelspec": {
   "display_name": "Python 3 (ipykernel)",
   "language": "python",
   "name": "python3"
  },
  "language_info": {
   "codemirror_mode": {
    "name": "ipython",
    "version": 3
   },
   "file_extension": ".py",
   "mimetype": "text/x-python",
   "name": "python",
   "nbconvert_exporter": "python",
   "pygments_lexer": "ipython3",
   "version": "3.9.7"
  }
 },
 "nbformat": 4,
 "nbformat_minor": 5
}
