{
 "cells": [
  {
   "cell_type": "code",
   "execution_count": 14,
   "id": "670f8cc0",
   "metadata": {},
   "outputs": [],
   "source": [
    "import matplotlib.pyplot as plt \n",
    "import pandas as pd\n",
    "import random \n",
    "from sklearn.linear_model import Lasso\n",
    "from sklearn.linear_model import LinearRegression , Ridge\n",
    "from sklearn.metrics import pairwise_distances\n",
    "import numpy as np\n",
    "\n",
    "exp_id = np.load('exp_id.npy')\n",
    "exec(open(\"model_architecture.py\").read())\n",
    "\n",
    "net2 = torch.load('F'+ str(exp_id) +'_net2.pt')\n",
    "deep_feat = torch.load('D1_F'+str(exp_id)+'_test_fusion_tensor.pt').double().to(device)"
   ]
  },
  {
   "cell_type": "code",
   "execution_count": 15,
   "id": "9b4b8c42",
   "metadata": {},
   "outputs": [],
   "source": [
    "def get_proj (X,n,fn):\n",
    "#   get projections of X\n",
    "    ids_full = range(fn)\n",
    "    N = np.zeros((n, fn))\n",
    "    for i in range(n):\n",
    "        tmp = X.copy()\n",
    "        num_ids = random.randint(0,fn-1) #fn exclusive\n",
    "        id_off = random.sample(ids_full, num_ids)\n",
    "        tmp[id_off] = 0\n",
    "        N[i] = tmp\n",
    "    return N\n",
    "\n",
    "def get_neigh(scaler, X, n, fn):\n",
    "    samples = np.random.normal(0,1,n*fn).reshape(n,fn)\n",
    "#     N = samples+X\n",
    "#     N = (samples  - scaler.mean_)/scaler.scale_\n",
    "    N = samples\n",
    "    return(N)\n",
    "\n",
    "\n",
    "def get_neigh2(X, n, fn):\n",
    "    samples = np.random.multivariate_normal(X,np.eye(fn), n)\n",
    "    N = samples\n",
    "    return(N)\n",
    "\n",
    "\n",
    "def dist(Z, X):\n",
    "    sigma = X.shape[0]*0.75\n",
    "    d = pairwise_distances(Z,X.reshape(1, -1),metric='euclidean').ravel()\n",
    "    dist_weight = np.sqrt(np.exp(-(d ** 2) / sigma ** 2))   \n",
    "    return(dist_weight)\n"
   ]
  },
  {
   "cell_type": "code",
   "execution_count": 16,
   "id": "f7f233c1",
   "metadata": {},
   "outputs": [],
   "source": [
    "fn=40\n",
    "test_n = len(deep_feat)\n",
    "W_pop_0 = np.zeros((test_n , fn))\n",
    "\n",
    "net2.eval()\n",
    "outputs = net2(deep_feat[:,0:10], deep_feat[:,10:20], deep_feat[:,20:40])\n",
    "\n",
    "# Repeat Lime for all inputs \n",
    "for i in range(test_n):\n",
    "    X = deep_feat[i].cpu().numpy()\n",
    "    # Generate training data for Ridge\n",
    "    n = 200\n",
    "    N = get_neigh2(X, n, fn)\n",
    "    Nt = torch.from_numpy(N).double().to(device)\n",
    "    Y = net2(Nt[:, 0:10], Nt[:, 10:20], Nt[: , 20:40]) #prob for class 0 \n",
    "    Y = Y.detach().cpu().numpy()\n",
    "    w = dist(N,X)\n",
    "    lime_ols =Ridge(alpha=1, random_state=10).fit(N,Y,sample_weight=w)\n",
    "    W_pop_0[i,:] = lime_ols.coef_[0]\n",
    "\n",
    "# Take average of absolute weights    \n",
    "imp = np.mean(np.abs(W_pop_0), axis=0)"
   ]
  },
  {
   "cell_type": "code",
   "execution_count": 17,
   "id": "f90f960a",
   "metadata": {},
   "outputs": [
    {
     "data": {
      "image/png": "[encoded data removed]",
      "text/plain": [
       "<Figure size 432x288 with 1 Axes>"
      ]
     },
     "metadata": {
      "needs_background": "light"
     },
     "output_type": "display_data"
    }
   ],
   "source": [
    "imp_m1 = np.sum(imp[0:10])/np.sum(imp)\n",
    "imp_m2 = np.sum(imp[10:20])/np.sum(imp)\n",
    "imp_m3 = np.sum(imp[20:30])/np.sum(imp)\n",
    "imp_m4 = np.sum(imp[30:40])/np.sum(imp)\n",
    "\n",
    "imp_m = np.array( [ imp_m1, imp_m2, imp_m3, imp_m4] ) \n",
    "imp_GT = np.load('F'+str(exp_id)+'_imp_gt.npy')\n",
    "\n",
    "xlabel = ['M1', 'M2','M3','M4']\n",
    "plt.bar([0-0.125,1-0.125,2-0.125,3-0.125], imp_GT,  edgecolor='k', width=0.25, capsize=2,  label='True')\n",
    "plt.bar([0+0.125,1+0.125,2+0.125,3+0.125], imp_m,  edgecolor='k', width=0.25, capsize=2,  label='Predicted')\n",
    "plt.xticks([0,1,2,3],xlabel,fontsize=12)\n",
    "plt.xlabel('Modalities',fontsize=12)\n",
    "plt.ylabel('Normalized importance',fontsize=12)\n",
    "plt.ylim([0,1])\n",
    "plt.legend()\n",
    "plt.grid\n",
    "\n",
    "np.save('F'+str(exp_id)+'_imp_lime', imp_m)"
   ]
  },
  {
   "cell_type": "code",
   "execution_count": null,
   "id": "58d8d95a",
   "metadata": {},
   "outputs": [],
   "source": []
  },
  {
   "cell_type": "code",
   "execution_count": null,
   "id": "9ae91aa3",
   "metadata": {},
   "outputs": [],
   "source": []
  }
 ],
 "metadata": {
  "kernelspec": {
   "display_name": "Python 3 (ipykernel)",
   "language": "python",
   "name": "python3"
  },
  "language_info": {
   "codemirror_mode": {
    "name": "ipython",
    "version": 3
   },
   "file_extension": ".py",
   "mimetype": "text/x-python",
   "name": "python",
   "nbconvert_exporter": "python",
   "pygments_lexer": "ipython3",
   "version": "3.9.7"
  }
 },
 "nbformat": 4,
 "nbformat_minor": 5
}
